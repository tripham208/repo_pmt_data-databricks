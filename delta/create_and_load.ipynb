{
 "cells": [
  {
   "metadata": {},
   "cell_type": "markdown",
   "source": [
    "## Delta Lake Format Usage\n",
    "\n",
    "Delta Lake is the default format for tables in Databricks. You can create and write to Delta tables without explicitly specifying the format:\n",
    "\n",
    "* Create table: `CREATE TABLE foo` ~~using delta~~\n",
    "* DataFrame write: `df.write.saveAsTable(\"foo\")`~~.format(\"delta\")~~"
   ],
   "id": "e59cc5556091e2f"
  },
  {
   "metadata": {},
   "cell_type": "code",
   "outputs": [],
   "execution_count": null,
   "source": [
    "from pyspark.sql.types import *\n",
    "\n",
    "dt1 = (\n",
    "    DeltaTable.create(spark)\n",
    "    .tableName(\"testTable1\")\n",
    "    .addColumn(\"c1\", dataType=\"INT\", nullable=False)\n",
    "    .addColumn(\"c2\", dataType=IntegerType(), generatedAlwaysAs=\"c1 + 1\")\n",
    "    .partitionedBy(\"c1\")\n",
    "    .execute()\n",
    ")"
   ],
   "id": "b365a71e13be53ae"
  },
  {
   "metadata": {},
   "cell_type": "markdown",
   "source": [
    "## Data Loading with COPY INTO\n",
    "\n",
    "The COPY INTO command provides efficient and reliable data loading into Delta tables:"
   ],
   "id": "5f39bed4138b9bbc"
  },
  {
   "metadata": {
    "SqlCellData": {
     "variableName$1": "df_sql2"
    }
   },
   "cell_type": "code",
   "outputs": [],
   "execution_count": null,
   "source": [
    "%%sql\n",
    "-- Basic COPY INTO with parquet files\n",
    "COPY INTO foo FROM 's3://bucket/path/to/file'\n",
    "FILEFORMAT = parquet\n",
    "COPY_OPTIONS = {\n",
    "    'overwrite': True,\n",
    "    'maxfiles': 1000,\n",
    "    'mergeSchema': 'true'\n",
    "};\n",
    "\n",
    "-- COPY INTO with file name tracking\n",
    "COPY INTO foo FROM\n",
    "(SELECT *, input_file_name() FROM 's3://bucket/path/to/file')\n",
    "FILEFORMAT = parquet\n",
    "COPY_OPTIONS = {\n",
    "    'overwrite': True\n",
    "};\n"
   ],
   "id": "226a508a31e14291"
  },
  {
   "metadata": {},
   "cell_type": "markdown",
   "source": "### CLONE",
   "id": "542cb650a5b89a5f"
  },
  {
   "metadata": {
    "SqlCellData": {
     "variableName$1": "df_sql1"
    }
   },
   "cell_type": "code",
   "outputs": [],
   "execution_count": null,
   "source": [
    "%%sql\n",
    "    CREATE TABLE db.target_table SHALLOW CLONE delta.`/data/source` VERSION AS OF version\n",
    "\n",
    "    CREATE TABLE db.target_table SHALLOW CLONE delta.`/data/source` TIMESTAMP AS OF timestamp_expression\n",
    "\n",
    "    CREATE OR REPLACE TABLE db.target_table SHALLOW CLONE db.source_table\n",
    "\n",
    "    CREATE TABLE IF NOT EXISTS delta.`/data/target/` SHALLOW CLONE db.source_table\n",
    "\n",
    "    # UNITY CATALOG\n",
    "    CREATE TABLE <catalog-name>.<schema-name>.<target-table-name> SHALLOW CLONE <catalog-name>.<schema-name>.<source-table-name>"
   ],
   "id": "f38aa026ebad123a"
  },
  {
   "metadata": {},
   "cell_type": "code",
   "outputs": [],
   "execution_count": null,
   "source": "    spark.sql('CREATE TABLE delta.`/data/target/` SHALLOW CLONE delta.`/data/source/` ')",
   "id": "6872a27f4e500c43"
  }
 ],
 "metadata": {
  "kernelspec": {
   "display_name": "Python 3",
   "language": "python",
   "name": "python3"
  },
  "language_info": {
   "codemirror_mode": {
    "name": "ipython",
    "version": 2
   },
   "file_extension": ".py",
   "mimetype": "text/x-python",
   "name": "python",
   "nbconvert_exporter": "python",
   "pygments_lexer": "ipython2",
   "version": "2.7.6"
  }
 },
 "nbformat": 4,
 "nbformat_minor": 5
}
