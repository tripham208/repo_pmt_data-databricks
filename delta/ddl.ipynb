{
 "cells": [
  {
   "metadata": {},
   "cell_type": "markdown",
   "source": "### Drop column",
   "id": "65076f59e79300d6"
  },
  {
   "metadata": {
    "SqlCellData": {
     "variableName$1": "df_sql1"
    }
   },
   "cell_type": "code",
   "outputs": [],
   "execution_count": null,
   "source": [
    "%%sql\n",
    "ALTER TABLE `my_cool_table` DROP COLUMN language"
   ],
   "id": "de37f9cead23c385"
  },
  {
   "metadata": {},
   "cell_type": "code",
   "outputs": [],
   "execution_count": null,
   "source": [
    "{\n",
    "   \"commitInfo\":{\n",
    "      \"timestamp\":1659886555675,\n",
    "      \"operation\":\"DROP COLUMNS\",\n",
    "      \"operationParameters\":{\n",
    "         \"columns\":\"[\\\"language\\\"]\"\n",
    "      },\n",
    "      \"readVersion\":1,\n",
    "      \"isolationLevel\":\"Serializable\",\n",
    "      \"isBlindAppend\":true,\n",
    "      \"operationMetrics\":{\n",
    "      },\n",
    "      \"engineInfo\":\"Apache-Spark/3.2.2 Delta-Lake/2.0.0\",\n",
    "      \"txnId\":\"72294000-c6b4-4eba-8cc6-9d207cc01291\"\n",
    "   }\n",
    "}"
   ],
   "id": "6ff092d89d2f59b6"
  },
  {
   "metadata": {},
   "cell_type": "markdown",
   "source": [
    "### Generated column\n",
    "- Delta auto gen data for generated column\n",
    "- If write to generated column -> error\n",
    "- **only** be added to Delta tables that are **newly created or replaced**. You can’t add a generated column to an existing Delta table.#%% md"
   ],
   "id": "595407c48833644a"
  },
  {
   "metadata": {},
   "cell_type": "code",
   "outputs": [],
   "execution_count": null,
   "source": [
    "from delta import DeltaTable\n",
    "\n",
    "(\n",
    "   DeltaTable.create(spark)\n",
    "   .tableName(\"default.some_people\")\n",
    "   .addColumn(\"id\", \"LONG\")\n",
    "   .addColumn(\"first_name\", \"STRING\")\n",
    "   .addColumn(\"last_name\", \"STRING\")\n",
    "   .addColumn(\"age\", \"LONG\")\n",
    "   .addColumn(\n",
    "      \"full_name\", \"STRING\", generatedAlwaysAs=\"concat(first_name, ' ', last_name)\"\n",
    "   )\n",
    "   .execute()\n",
    ")"
   ],
   "id": "5f89c4cb985d77a2"
  },
  {
   "metadata": {},
   "cell_type": "markdown",
   "source": "### Constraints and Checks",
   "id": "812e09fd66393eb0"
  },
  {
   "metadata": {},
   "cell_type": "code",
   "outputs": [],
   "execution_count": null,
   "source": "spark.sql(\"ALTER TABLE default.random1 ADD CONSTRAINT ageIsPositive CHECK (age >= 0)\")",
   "id": "ce2ca11ef7c1bd28"
  },
  {
   "metadata": {},
   "cell_type": "code",
   "outputs": [],
   "execution_count": null,
   "source": [
    "spark.sql(\"SHOW TBLPROPERTIES random1\").show(truncate=False)\n",
    "\n",
    "+-------------------------------+--------+\n",
    "|key                            |value   |\n",
    "+-------------------------------+--------+\n",
    "|delta.constraints.ageispositive|age >= 0|\n",
    "|delta.minReaderVersion         |1       |\n",
    "|delta.minWriterVersion         |3       |\n",
    "+-------------------------------+--------+"
   ],
   "id": "542f7a120a6a6ac7"
  }
 ],
 "metadata": {
  "kernelspec": {
   "display_name": "Python 3",
   "language": "python",
   "name": "python3"
  },
  "language_info": {
   "codemirror_mode": {
    "name": "ipython",
    "version": 2
   },
   "file_extension": ".py",
   "mimetype": "text/x-python",
   "name": "python",
   "nbconvert_exporter": "python",
   "pygments_lexer": "ipython2",
   "version": "2.7.6"
  }
 },
 "nbformat": 4,
 "nbformat_minor": 5
}
