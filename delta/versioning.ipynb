{
 "cells": [
  {
   "metadata": {},
   "cell_type": "markdown",
   "source": [
    "## Delta Lake Operations Overview\n",
    "\n",
    "This notebook demonstrates key Delta Lake operations including version management, rollback, and optimization."
   ],
   "id": "7d673c24778f14f5"
  },
  {
   "metadata": {},
   "cell_type": "markdown",
   "source": "### 1. Version Management (Time Travel)",
   "id": "5403cd940389242"
  },
  {
   "metadata": {
    "SqlCellData": {
     "variableName$1": "df_sql2"
    }
   },
   "cell_type": "code",
   "outputs": [],
   "execution_count": null,
   "source": [
    "%%sql\n",
    "SELECT count(*) FROM my_table VERSION AS OF 5238\n",
    "SELECT count(*) FROM my_table TIMESTAMP AS OF \"2019-01-01\""
   ],
   "id": "2004e5f73987ffbe"
  },
  {
   "metadata": {},
   "cell_type": "code",
   "outputs": [],
   "execution_count": null,
   "source": [
    "# Reading a specific version of Delta table\n",
    "spark.read.format(\"delta\").option(\"versionAsOf\", \"1\").load(\"/tmp/delta-table\").show()\n",
    "# time travel based on timestamp\n",
    "spark.read.format(\"delta\").option(\"timestampAsOf\", \"2019-01-01\").load(\"tmp/some_nums\")"
   ],
   "id": "fb14bfefbddd3ded"
  },
  {
   "metadata": {},
   "cell_type": "markdown",
   "source": [
    "### 2. Table Restoration\n",
    "Methods to restore Delta table to previous versions"
   ],
   "id": "bdb6513667ea327e"
  },
  {
   "metadata": {
    "SqlCellData": {
     "variableName$1": "df_sql1"
    }
   },
   "cell_type": "code",
   "outputs": [],
   "execution_count": null,
   "source": [
    "%%sql\n",
    "RESTORE TABLE your_table TO VERSION AS OF 1"
   ],
   "id": "c91fe968871f69ca"
  },
  {
   "metadata": {},
   "cell_type": "code",
   "outputs": [],
   "execution_count": null,
   "source": [
    "from delta.tables import DeltaTable\n",
    "\n",
    "deltaTable = DeltaTable.forPath(spark, \"/tmp/delta-table\")\n",
    "deltaTable.restoreToVersion(1)"
   ],
   "id": "984019d617cb0f44"
  }
 ],
 "metadata": {
  "kernelspec": {
   "display_name": "Python 3",
   "language": "python",
   "name": "python3"
  },
  "language_info": {
   "codemirror_mode": {
    "name": "ipython",
    "version": 2
   },
   "file_extension": ".py",
   "mimetype": "text/x-python",
   "name": "python",
   "nbconvert_exporter": "python",
   "pygments_lexer": "ipython2",
   "version": "2.7.6"
  }
 },
 "nbformat": 4,
 "nbformat_minor": 5
}
