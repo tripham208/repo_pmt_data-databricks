{
 "cells": [
  {
   "metadata": {},
   "cell_type": "markdown",
   "source": [
    "### Optimization\n",
    "Compaction operations to handle small files"
   ],
   "id": "d7a2058b9b667700"
  },
  {
   "metadata": {},
   "cell_type": "code",
   "outputs": [],
   "execution_count": null,
   "source": [
    "from delta.tables import DeltaTable\n",
    "\n",
    "delta_table = DeltaTable.forPath(spark, \"tmp/table1\")\n",
    "\n",
    "delta_table.optimize().executeCompaction()\n",
    "# with a specific partition\n",
    "delta_table.optimize().where(\"date='2021-11-18'\").executeCompaction()"
   ],
   "id": "3444a04f7454f11b"
  },
  {
   "metadata": {},
   "cell_type": "code",
   "outputs": [],
   "execution_count": null,
   "source": [
    "{\n",
    "  \"add\": {\n",
    "    \"path\": \"part-00000-2b164d47-0f85-47e1-99dc-d136c784baaa-c000.snappy.parquet\",\n",
    "    \"partitionValues\": {},\n",
    "    \"size\": 504,\n",
    "    \"modificationTime\": 1671468211798,\n",
    "    \"dataChange\": false,\n",
    "    \"stats\": \"{\\\"numRecords\\\":5,\\\"minValues\\\":{\\\"id\\\":0},\\\"maxValues\\\":{\\\"id\\\":4},\\\"nullCount\\\":{\\\"id\\\":0}}\"\n",
    "  }\n",
    "}\n",
    "{\n",
    "  \"remove\": {\n",
    "    \"path\": \"part-00003-81cad732-eeaf-4708-9111-aa2e8136e304-c000.snappy.parquet\",\n",
    "    \"deletionTimestamp\": 1671468210066,\n",
    "    \"dataChange\": false,\n",
    "    \"extendedFileMetadata\": true,\n",
    "    \"partitionValues\": {},\n",
    "    \"size\": 478\n",
    "  }\n",
    "}\n",
    "The other small files are also removed…"
   ],
   "id": "8d0a1e17ffded935"
  },
  {
   "metadata": {},
   "cell_type": "markdown",
   "source": "optimize write",
   "id": "4e195f09468e88a0"
  },
  {
   "metadata": {},
   "cell_type": "code",
   "outputs": [],
   "execution_count": null,
   "source": "df.write.format(\"delta\").partitionBy(\"education\").option(\"optimizeWrite\", \"True\").save(\"delta/census_table_optimized/\")",
   "id": "196013f13d25bcda"
  }
 ],
 "metadata": {
  "kernelspec": {
   "display_name": "Python 3",
   "language": "python",
   "name": "python3"
  },
  "language_info": {
   "codemirror_mode": {
    "name": "ipython",
    "version": 2
   },
   "file_extension": ".py",
   "mimetype": "text/x-python",
   "name": "python",
   "nbconvert_exporter": "python",
   "pygments_lexer": "ipython2",
   "version": "2.7.6"
  }
 },
 "nbformat": 4,
 "nbformat_minor": 5
}
