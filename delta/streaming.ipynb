{
 "cells": [
  {
   "metadata": {},
   "cell_type": "markdown",
   "source": "# Writing a Kafka Stream to Delta Lake with Spark Structured Streaming",
   "id": "66489db2232fb490"
  },
  {
   "cell_type": "code",
   "execution_count": null,
   "id": "initial_id",
   "metadata": {
    "collapsed": true
   },
   "outputs": [],
   "source": [
    "df = (\n",
    "    spark.readStream.format(\"kafka\")\n",
    "    .option(\"kafka.bootstrap.servers\", \"host1:port1,host2:port2\")\n",
    "    .option(\"subscribe\", subscribeTopic)\n",
    "    .load()\n",
    ")"
   ]
  },
  {
   "metadata": {},
   "cell_type": "code",
   "outputs": [],
   "execution_count": null,
   "source": [
    "schema = StructType([\n",
    " StructField(\"student_name\", StringType()),\n",
    " StructField(\"graduation_year\", StringType()),\n",
    " StructField(\"major\", StringType()),\n",
    "])\n"
   ],
   "id": "3764ff0c1ac9fac6"
  },
  {
   "metadata": {},
   "cell_type": "code",
   "outputs": [],
   "execution_count": null,
   "source": [
    "def with_normalized_names(df, schema):\n",
    "    parsed_df = (\n",
    "        df.withColumn(\"json_data\", from_json(col(\"value\").cast(\"string\"), schema))\n",
    "        .withColumn(\"student_name\", col(\"json_data.student_name\"))\n",
    "        .withColumn(\"graduation_year\", col(\"json_data.graduation_year\"))\n",
    "        .withColumn(\"major\", col(\"json_data.major\"))\n",
    "        .drop(col(\"json_data\"))\n",
    "        .drop(col(\"value\"))\n",
    "    )\n",
    "    split_col = split(parsed_df[\"student_name\"], \"XX\")\n",
    "    return (\n",
    "        parsed_df.withColumn(\"first_name\", split_col.getItem(0))\n",
    "        .withColumn(\"last_name\", split_col.getItem(1))\n",
    "        .drop(\"student_name\")\n",
    "    )\n"
   ],
   "id": "fd93329c1222bd03"
  },
  {
   "metadata": {},
   "cell_type": "code",
   "outputs": [],
   "execution_count": null,
   "source": [
    "def perform_available_now_update():\n",
    "    checkpointPath = \"data/tmp_students_checkpoint/\"\n",
    "    deltaPath = \"data/tmp_students_delta\"\n",
    "    return df.transform(lambda df: with_normalized_names(df)).writeStream.trigger(\n",
    "        availableNow=True\n",
    "    ).format(\"delta\").option(\"checkpointLocation\", checkpointPath).start(deltaPath)\n"
   ],
   "id": "71a7b55c80244218"
  },
  {
   "metadata": {},
   "cell_type": "code",
   "outputs": [],
   "execution_count": null,
   "source": [
    "perform_available_now_update()\n",
    "spark.read.format(\"delta\").load(deltaPath).show()\n"
   ],
   "id": "e6edd83bfbba543"
  },
  {
   "metadata": {},
   "cell_type": "code",
   "outputs": [],
   "execution_count": null,
   "source": [
    "## Read Kafka stream and write to a Delta Lake table continuously\n",
    "def perform_trigger_fixed_interval_update():\n",
    "    checkpointPath = \"data/tmp_students_checkpoint/\"\n",
    "    deltaPath = \"data/tmp_students_delta\"\n",
    "    return df.transform(lambda df: with_normalized_names(df)).writeStream.trigger(\n",
    "        processingTime='10 seconds'\n",
    "    ).format(\"delta\").option(\"checkpointLocation\", checkpointPath).start(deltaPath)\n"
   ],
   "id": "dcc833fd0e265a9f"
  }
 ],
 "metadata": {
  "kernelspec": {
   "display_name": "Python 3",
   "language": "python",
   "name": "python3"
  },
  "language_info": {
   "codemirror_mode": {
    "name": "ipython",
    "version": 2
   },
   "file_extension": ".py",
   "mimetype": "text/x-python",
   "name": "python",
   "nbconvert_exporter": "python",
   "pygments_lexer": "ipython2",
   "version": "2.7.6"
  }
 },
 "nbformat": 4,
 "nbformat_minor": 5
}
