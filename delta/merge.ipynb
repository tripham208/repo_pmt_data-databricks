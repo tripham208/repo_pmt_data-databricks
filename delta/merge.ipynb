{
 "cells": [
  {
   "metadata": {},
   "cell_type": "markdown",
   "source": "### MERGE",
   "id": "e73114418af3582c"
  },
  {
   "metadata": {
    "SqlCellData": {
     "variableName$1": "df_sql3"
    }
   },
   "cell_type": "code",
   "source": [
    "%%sql\n",
    "MERGE INTO target_table t\n",
    "    USING source_table s\n",
    "    ON t.id = s.id\n",
    "    WHEN MATCHED AND t.name = s.name\n",
    "        THEN UPDATE SET *\n",
    "    WHEN NOT MATCHED\n",
    "        THEN INSERT *\n"
   ],
   "id": "57d676df3229e0de",
   "outputs": [],
   "execution_count": null
  },
  {
   "metadata": {},
   "cell_type": "code",
   "outputs": [],
   "execution_count": null,
   "source": [
    "(target_data.alias(\"target\").merge(\n",
    "    source_data.alias(\"source\"),\n",
    "    \"target.id = source.id\"\n",
    ").whenMatchedUpdate(\n",
    "    conditons=\"target.name = source.name\",\n",
    "    set={\n",
    "        \"name\": \"source.name\",\n",
    "        \"age\": \"source.age\"\n",
    "    }\n",
    ").whenNotMatchedInsert(\n",
    "    values={\n",
    "        \"id\": \"source.id\",\n",
    "        \"name\": \"source.name\",\n",
    "        \"age\": \"source.age\"\n",
    "    }\n",
    ").execute())"
   ],
   "id": "9eae7b4be224f9a7"
  },
  {
   "metadata": {},
   "cell_type": "code",
   "outputs": [],
   "execution_count": null,
   "source": [
    "people_table.alias(\"target\").merge(\n",
    "    new_df.alias(\"source\"), \"target.id = source.id\"\n",
    ").whenNotMatchedInsert(\n",
    "    condition='source._op = \"INSERT\"',\n",
    "    values={\"id\": \"source.id\", \"name\": \"source.name\", \"age\": \"source.age\"},\n",
    ").whenMatchedUpdate(\n",
    "    condition='source._op = \"UPDATE\"',\n",
    "    set={\"id\": \"source.id\", \"name\": \"source.name\", \"age\": \"source.age\"},\n",
    ").whenMatchedDelete(\n",
    "    condition='source._op = \"DELETE\"'\n",
    ").execute()\n"
   ],
   "id": "1b305502f42209ef"
  }
 ],
 "metadata": {
  "kernelspec": {
   "display_name": "Python 3",
   "language": "python",
   "name": "python3"
  },
  "language_info": {
   "codemirror_mode": {
    "name": "ipython",
    "version": 2
   },
   "file_extension": ".py",
   "mimetype": "text/x-python",
   "name": "python",
   "nbconvert_exporter": "python",
   "pygments_lexer": "ipython2",
   "version": "2.7.6"
  }
 },
 "nbformat": 4,
 "nbformat_minor": 5
}
