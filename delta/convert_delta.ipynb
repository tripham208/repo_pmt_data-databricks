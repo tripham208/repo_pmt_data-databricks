{
 "cells": [
  {
   "metadata": {},
   "cell_type": "markdown",
   "source": "# Convert format table",
   "id": "46e1dfed2cbdbceb"
  },
  {
   "metadata": {
    "SqlCellData": {
     "variableName$1": "df_sql1"
    }
   },
   "cell_type": "code",
   "outputs": [],
   "execution_count": null,
   "source": [
    "%%sql\n",
    "CONVERT TO DELTA database_name.table_name; -- only for Parquet tables\n",
    "\n",
    "CONVERT TO DELTA parquet.`s3://my-bucket/path/to/table`\n",
    "  PARTITIONED BY (date DATE); -- if the table is partitioned\n",
    "\n",
    "CONVERT TO DELTA iceberg.`s3://my-bucket/path/to/table`; -- uses Iceberg manifest for metadata"
   ],
   "id": "216bb8c8384f5f0f"
  },
  {
   "metadata": {},
   "cell_type": "code",
   "outputs": [],
   "execution_count": null,
   "source": [
    "from delta.tables import *\n",
    "\n",
    "deltaTable = DeltaTable.convertToDelta(spark, \"parquet.`<path-to-table>`\")\n",
    "# have partition\n",
    "deltaTable = DeltaTable.convertToDelta(spark, \"parquet.`tmp/lake2`\", \"language STRING\")"
   ],
   "id": "1b5a8fc406b663ef"
  }
 ],
 "metadata": {
  "kernelspec": {
   "display_name": "Python 3",
   "language": "python",
   "name": "python3"
  },
  "language_info": {
   "codemirror_mode": {
    "name": "ipython",
    "version": 2
   },
   "file_extension": ".py",
   "mimetype": "text/x-python",
   "name": "python",
   "nbconvert_exporter": "python",
   "pygments_lexer": "ipython2",
   "version": "2.7.6"
  }
 },
 "nbformat": 4,
 "nbformat_minor": 5
}
