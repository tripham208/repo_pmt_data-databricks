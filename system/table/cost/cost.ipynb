{
 "cells": [
  {
   "metadata": {
    "SqlCellData": {
     "data_source_name": "@localhost",
     "variableName$1": "df_sql1"
    }
   },
   "cell_type": "code",
   "source": [
    "%%sql\n",
    "---How many DBUs of each product have been used throughout this month\n",
    "SELECT\n",
    "    billing_origin_product,\n",
    "    usage_date,\n",
    "    sum(usage_quantity) as usage_quantity\n",
    "FROM system.billing.usage\n",
    "WHERE\n",
    "    month(usage_date) = month(NOW())\n",
    "    AND year(usage_date) = year(NOW())\n",
    "GROUP BY billing_origin_product, usage_date"
   ],
   "id": "fb3edf687212f0b1",
   "outputs": [],
   "execution_count": null
  },
  {
   "metadata": {},
   "cell_type": "markdown",
   "source": "Which jobs consumed the most DBUs?",
   "id": "330d018194977857"
  },
  {
   "metadata": {
    "SqlCellData": {
     "variableName$1": "df_sql2"
    }
   },
   "cell_type": "code",
   "outputs": [],
   "execution_count": null,
   "source": [
    "%%sql\n",
    "SELECT\n",
    "  sku_name, usage_unit, SUM(usage_quantity) as \"Usage\"\n",
    "FROM\n",
    "  system.billing.usage\n",
    "WHERE\n",
    "  custom_tags->:key = :value\n",
    "GROUP BY 1, 2"
   ],
   "id": "b7a2f95693930419"
  },
  {
   "metadata": {},
   "cell_type": "markdown",
   "source": "Enrich usage with a job name",
   "id": "d70fd78bfbeb4bcf"
  },
  {
   "metadata": {
    "SqlCellData": {
     "variableName$1": "df_sql3"
    }
   },
   "cell_type": "code",
   "outputs": [],
   "execution_count": null,
   "source": [
    "%%sql\n",
    "with jobs as (\n",
    "  SELECT\n",
    "    *,\n",
    "    ROW_NUMBER() OVER (PARTITION BY workspace_id, job_id ORDER BY change_time DESC) as rn\n",
    "  FROM system.lakeflow.jobs QUALIFY rn=1\n",
    ")\n",
    "SELECT\n",
    "  usage.*,\n",
    "  coalesce(usage_metadata.job_name, jobs.name) as job_name\n",
    "FROM system.billing.usage\n",
    "  LEFT JOIN jobs ON usage.workspace_id=jobs.workspace_id AND usage.usage_metadata.job_id=jobs.job_id\n",
    "WHERE\n",
    "  billing_origin_product=\"JOBS\""
   ],
   "id": "5efe094758af68e8"
  },
  {
   "metadata": {},
   "cell_type": "markdown",
   "source": "How much usage can be attributed to resources with a specific tag",
   "id": "b87903cb6d7bd7b6"
  },
  {
   "metadata": {
    "SqlCellData": {
     "variableName$1": "df_sql4"
    }
   },
   "cell_type": "code",
   "outputs": [],
   "execution_count": null,
   "source": [
    "%%sql\n",
    "SELECT\n",
    "  sku_name, usage_unit, SUM(usage_quantity) as `Usage`\n",
    "FROM\n",
    "  system.billing.usage\n",
    "WHERE\n",
    "  custom_tags [:key] = :value\n",
    "GROUP BY 1, 2"
   ],
   "id": "6716e2814accc013"
  },
  {
   "metadata": {},
   "cell_type": "markdown",
   "source": "Attribute costs to the compute resource owner",
   "id": "bc5b7b95f098bb4f"
  },
  {
   "metadata": {
    "SqlCellData": {
     "variableName$1": "df_sql5"
    }
   },
   "cell_type": "code",
   "outputs": [],
   "execution_count": null,
   "source": [
    "%%sql\n",
    "SELECT\n",
    "  u.record_id record_id,\n",
    "  c.cluster_id cluster_id,\n",
    "  max_by(c.owned_by, c.change_time) owned_by,\n",
    "  max(c.change_time) change_time,\n",
    "  any_value(u.usage_start_time) usage_start_time,\n",
    "  any_value(u.usage_quantity) usage_quantity\n",
    "FROM\n",
    "  system.billing.usage u\n",
    "  JOIN system.compute.clusters c\n",
    "WHERE\n",
    "  u.usage_metadata.cluster_id is not null\n",
    "  and u.usage_start_time >= '2025-01-01'\n",
    "  and u.usage_metadata.cluster_id = c.cluster_id\n",
    "  and c.change_time <= u.usage_start_time\n",
    "GROUP BY 1, 2\n",
    "ORDER BY cluster_id, usage_start_time desc;"
   ],
   "id": "667cab2c7ee35822"
  },
  {
   "metadata": {},
   "cell_type": "markdown",
   "source": "Enrich usage with a job name",
   "id": "654bf5e0e8c78045"
  },
  {
   "metadata": {
    "SqlCellData": {
     "variableName$1": "df_sql6"
    }
   },
   "cell_type": "code",
   "outputs": [],
   "execution_count": null,
   "source": [
    "%%sql\n",
    "with jobs as (\n",
    "  SELECT\n",
    "    *,\n",
    "    ROW_NUMBER() OVER (PARTITION BY workspace_id, job_id ORDER BY change_time DESC) as rn\n",
    "  FROM system.lakeflow.jobs QUALIFY rn=1\n",
    ")\n",
    "SELECT\n",
    "  usage.*,\n",
    "  coalesce(usage_metadata.job_name, jobs.name) as job_name\n",
    "FROM system.billing.usage\n",
    "  LEFT JOIN jobs ON usage.workspace_id=jobs.workspace_id AND usage.usage_metadata.job_id=jobs.job_id\n",
    "WHERE\n",
    "  billing_origin_product=\"JOBS\""
   ],
   "id": "e386bfd6c8aa7e50"
  }
 ],
 "metadata": {
  "kernelspec": {
   "display_name": "Python 3",
   "language": "python",
   "name": "python3"
  },
  "language_info": {
   "codemirror_mode": {
    "name": "ipython",
    "version": 2
   },
   "file_extension": ".py",
   "mimetype": "text/x-python",
   "name": "python",
   "nbconvert_exporter": "python",
   "pygments_lexer": "ipython2",
   "version": "2.7.6"
  }
 },
 "nbformat": 4,
 "nbformat_minor": 5
}
