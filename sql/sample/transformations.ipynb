{
 "cells": [
  {
   "metadata": {
    "SqlCellData": {
     "data_source_name": "@localhost",
     "variableName$1": "df_sql1"
    }
   },
   "cell_type": "code",
   "outputs": [],
   "execution_count": null,
   "source": [
    "%%sql\n",
    "--- get value\n",
    "select value_col:key_name from table_name;\n",
    "--- explode\n",
    "select explode(items) from table_name;\n",
    "--- collect\n",
    "select collect_set(items.id) from table_name group by key_name;"
   ],
   "id": "a2fd65ca8b9a9316"
  },
  {
   "metadata": {
    "SqlCellData": {
     "data_source_name": "@localhost",
     "variableName$1": "df_sql2"
    }
   },
   "cell_type": "code",
   "outputs": [],
   "execution_count": null,
   "source": "%%sql\n",
   "id": "f5dcb795084b1bc2"
  }
 ],
 "metadata": {
  "kernelspec": {
   "display_name": "Python 3",
   "language": "python",
   "name": "python3"
  },
  "language_info": {
   "codemirror_mode": {
    "name": "ipython",
    "version": 2
   },
   "file_extension": ".py",
   "mimetype": "text/x-python",
   "name": "python",
   "nbconvert_exporter": "python",
   "pygments_lexer": "ipython2",
   "version": "2.7.6"
  }
 },
 "nbformat": 4,
 "nbformat_minor": 5
}
