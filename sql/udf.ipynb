{
 "cells": [
  {
   "metadata": {
    "SqlCellData": {
     "data_source_name": "@localhost",
     "variableName$1": "df_sql1"
    }
   },
   "cell_type": "code",
   "outputs": [],
   "execution_count": null,
   "source": [
    "%%sql\n",
    "create or replace function get_date(date_str string)\n",
    "returns string\n",
    "return cast(date_str as date);\n"
   ],
   "id": "82f0103a44377a9d"
  },
  {
   "metadata": {
    "SqlCellData": {
     "data_source_name": "@localhost",
     "variableName$1": "df_sql2"
    }
   },
   "cell_type": "code",
   "outputs": [],
   "execution_count": null,
   "source": [
    "%%sql\n",
    "describe function extended get_date;"
   ],
   "id": "40fb6b9fcb8c7ca5"
  }
 ],
 "metadata": {
  "kernelspec": {
   "display_name": "Python 3",
   "language": "python",
   "name": "python3"
  },
  "language_info": {
   "codemirror_mode": {
    "name": "ipython",
    "version": 2
   },
   "file_extension": ".py",
   "mimetype": "text/x-python",
   "name": "python",
   "nbconvert_exporter": "python",
   "pygments_lexer": "ipython2",
   "version": "2.7.6"
  }
 },
 "nbformat": 4,
 "nbformat_minor": 5
}
