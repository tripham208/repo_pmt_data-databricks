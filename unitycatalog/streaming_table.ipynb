{
 "cells": [
  {
   "metadata": {},
   "cell_type": "markdown",
   "source": "# Streaming table\n",
   "id": "6d948ab9644a7a98"
  },
  {
   "metadata": {},
   "cell_type": "markdown",
   "source": [
    "## Create\n",
    "- only update when run\n",
    "- only append"
   ],
   "id": "e1b3e7f7485b9a5c"
  },
  {
   "metadata": {
    "SqlCellData": {
     "variableName$1": "df_sql1"
    }
   },
   "cell_type": "code",
   "outputs": [],
   "execution_count": null,
   "source": [
    "%%sql\n",
    "create or refresh streaming table pmt.standardize.customer as\n",
    "select *, current_timestamp() as process_time, _metadata.file_name as file_name from stream read_files( \"/Volumes/pmt/raw/data/customer\", format => 'JSON');"
   ],
   "id": "8fabcf4652dafc3c"
  }
 ],
 "metadata": {
  "kernelspec": {
   "display_name": "Python 3",
   "language": "python",
   "name": "python3"
  },
  "language_info": {
   "codemirror_mode": {
    "name": "ipython",
    "version": 2
   },
   "file_extension": ".py",
   "mimetype": "text/x-python",
   "name": "python",
   "nbconvert_exporter": "python",
   "pygments_lexer": "ipython2",
   "version": "2.7.6"
  }
 },
 "nbformat": 4,
 "nbformat_minor": 5
}
