{
 "cells": [
  {
   "cell_type": "code",
   "execution_count": null,
   "id": "initial_id",
   "metadata": {
    "collapsed": true
   },
   "outputs": [],
   "source": [
    "from env import get_dbutils\n",
    "dbutils = get_dbutils()"
   ]
  },
  {
   "metadata": {
    "SqlCellData": {
     "variableName$1": "df_sql1"
    }
   },
   "cell_type": "code",
   "outputs": [],
   "execution_count": null,
   "source": "%%sql\n",
   "id": "848d08077c11fc3"
  },
  {
   "metadata": {},
   "cell_type": "code",
   "outputs": [],
   "execution_count": null,
   "source": [
    "# get\n",
    "dbutils.fs.ls(dir=\"dbfs:/FileStore/tables\")\n",
    "dbutils.fs.head(file=\"dbfs:/FileStore/tables/pmt_data_2021-01-01.csv\")\n",
    "# put\n",
    "dbutils.fs.put(file=\"dbfs:/FileStore/tables/pmt_data_2021-01-01.csv\",contents=\"Hello World!\", overwrite= True)\n",
    "# copy\n",
    "dbutils.fs.cp(from_=\"dbfs:/FileStore/tables/pmt_data_2021-01-01.csv\", to=\"dbfs:/FileStore/tables/pmt_data_2021-01-02.csv\",recurse=False)"
   ],
   "id": "fdef02adaa0ed0ec"
  }
 ],
 "metadata": {
  "kernelspec": {
   "display_name": "Python 3",
   "language": "python",
   "name": "python3"
  },
  "language_info": {
   "codemirror_mode": {
    "name": "ipython",
    "version": 2
   },
   "file_extension": ".py",
   "mimetype": "text/x-python",
   "name": "python",
   "nbconvert_exporter": "python",
   "pygments_lexer": "ipython2",
   "version": "2.7.6"
  }
 },
 "nbformat": 4,
 "nbformat_minor": 5
}
