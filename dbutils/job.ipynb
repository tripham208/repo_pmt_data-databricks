{
 "cells": [
  {
   "cell_type": "code",
   "execution_count": null,
   "id": "initial_id",
   "metadata": {
    "collapsed": true
   },
   "outputs": [],
   "source": [
    "from env import get_dbutils\n",
    "dbutils = get_dbutils()"
   ]
  },
  {
   "metadata": {},
   "cell_type": "code",
   "outputs": [],
   "execution_count": null,
   "source": [
    "dbutils.jobs.taskValues.get(\n",
    "    taskKey=\"my-task\",\n",
    "    key=\"my-key\",\n",
    "    default=7,\n",
    "    debugValue=42\n",
    ")\n",
    "\n",
    "dbutils.jobs.taskValues.set(key=\"my-key\", value=5)"
   ],
   "id": "bf8c3e570526c2b9"
  },
  {
   "metadata": {},
   "cell_type": "code",
   "outputs": [],
   "execution_count": null,
   "source": [
    "# get task parameter\n",
    "env = dbutils.widgets.get(\"env\")"
   ],
   "id": "1c46cbcf96962986"
  }
 ],
 "metadata": {
  "kernelspec": {
   "display_name": "Python 3",
   "language": "python",
   "name": "python3"
  },
  "language_info": {
   "codemirror_mode": {
    "name": "ipython",
    "version": 2
   },
   "file_extension": ".py",
   "mimetype": "text/x-python",
   "name": "python",
   "nbconvert_exporter": "python",
   "pygments_lexer": "ipython2",
   "version": "2.7.6"
  }
 },
 "nbformat": 4,
 "nbformat_minor": 5
}
